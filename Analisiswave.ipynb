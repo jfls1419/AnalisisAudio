import librosa
import librosa.display
import matplotlib.pyplot as plt
import numpy as np

# Cargar el archivo de audio
# (Carga un archivo de audio para su análisis y procesamiento)
ruta_archivo = 'C://Users//Asus//Downloads//youtube//Drake_controlla.wav'
audio, sr = librosa.load(ruta_archivo)

# Dividir la canción en segmentos si es necesario
# (Divide la pista de audio en segmentos basados en el volumen, útil para aislar partes silenciosas)
segmentos = librosa.effects.split(audio, top_db=30)

# Convertir cada segmento en un array de audio y almacenarlo en una lista
# (Crea una lista de segmentos de audio para su posterior análisis)
segmentos_audio = [audio[start:end] for start, end in segmentos]

# Convertir la lista de segmentos en una tupla si es necesario
# (Convierte la lista de segmentos de audio en una tupla, que es un tipo de datos inmutable)
segmentos_audio_tupla = tuple(segmentos_audio)

# Inicializar una lista vacía para contener los arrays de audio
# (Prepara una lista para almacenar los datos de audio procesados)
audio_arrays = []

# Iterar sobre los segmentos de audio
for segment in segmentos_audio_tupla:
    # Asegurarse de que los datos de audio sean de tipo float y añadirlos a la lista
    # (Convierte los segmentos de audio a tipo float para un procesamiento consistente)
    audio_arrays.append(segment.astype(float))

# Ahora audio_arrays es una lista de arrays de sonido
# (La lista audio_arrays contiene ahora los segmentos de audio convertidos a tipo float)

# Filtrar cualquier array de dimensión cero
# (Elimina los segmentos de audio que no tienen longitud, es decir, silencios o ruido)
audio_arrays = [arr for arr in audio_arrays if arr.ndim > 0]

# Verificar si audio_arrays no está vacío
if audio_arrays:
    # Convertir la lista de arrays en un único array
    # (Combina todos los segmentos de audio en un solo array para su visualización)
    audio_arrays = np.concatenate(audio_arrays)

    # Convertir el audio a mono si es estéreo
    # (Si el audio es estéreo, lo convierte a mono promediando los canales)
    if audio_arrays.ndim > 1:
        audio_arrays = np.mean(audio_arrays, axis=1)

    # Obtener la tasa de muestreo del audio
    sr = 22050  # Establecer la tasa de muestreo al valor utilizado en to_soundarray

    # Obtener el tiempo del audio
    time = np.arange(0, len(audio_arrays)) / sr

    # Visualizar la forma de onda
    plt.figure(figsize=(15, 5))
    plt.plot(time, audio_arrays)
    plt.title('Forma de onda del audio de Drake_controlla.wav')
    plt.show()
